{
 "cells": [
  {
   "cell_type": "code",
   "execution_count": 4,
   "metadata": {},
   "outputs": [],
   "source": [
    "from deap import base, creator, tools, algorithms\n",
    "import random\n",
    "import numpy as np"
   ]
  },
  {
   "cell_type": "code",
   "execution_count": 2,
   "metadata": {},
   "outputs": [],
   "source": [
    "# Problem parameters\n",
    "N = 3000  # Number of projects\n",
    "M = 125   # Number of experts\n",
    "K = 5     # Number of experts per project\n",
    "pop_size = 100\n"
   ]
  },
  {
   "cell_type": "code",
   "execution_count": 1,
   "metadata": {},
   "outputs": [
    {
     "ename": "SyntaxError",
     "evalue": "expected argument value expression (1278095524.py, line 34)",
     "output_type": "error",
     "traceback": [
      "\u001b[1;36m  Cell \u001b[1;32mIn[1], line 34\u001b[1;36m\u001b[0m\n\u001b[1;33m    indices = np.random.choice(np.arange(self.population_size), size=)\u001b[0m\n\u001b[1;37m                                                                ^\u001b[0m\n\u001b[1;31mSyntaxError\u001b[0m\u001b[1;31m:\u001b[0m expected argument value expression\n"
     ]
    }
   ],
   "source": [
    "class GA_MATRIX:\n",
    "    def __init__(self, population_size:int, M:int, N:int, generations:int, crossover_rate:float, mutation_rate:float, \n",
    "                fitness_function:function) -> None:\n",
    "        '''\n",
    "        '''\n",
    "        self.population_size = population_size\n",
    "        self.M = M\n",
    "        self.N = N\n",
    "        self.generations = generations\n",
    "        self.crossover_rate = crossover_rate\n",
    "        self.mutation_rate = mutation_rate\n",
    "        self.fitness_function = fitness_function\n",
    "        self.population = []\n",
    "\n",
    "\n",
    "    def initialize_population(self, K):\n",
    "        '''\n",
    "        初始化种群\n",
    "        '''\n",
    "        for _ in range(self.population_size):\n",
    "            # 每个个体是一个 M x N 的矩阵\n",
    "            individual = np.zeros((self.M, self.N), dtype=int)\n",
    "            for j in range(self.N):\n",
    "                experts = np.random.choice(M, K, replace=False)\n",
    "                individual[experts, j] = 1\n",
    "            self.population.append(individual.reshape(1,self.M * self.N))\n",
    "        self.population = np.vstack(self.population)\n",
    "\n",
    "    def select(self):\n",
    "        ''' \n",
    "        轮盘赌\n",
    "        '''\n",
    "        fitness = self.fitness_function(self.population)\n",
    "        probabilities = fitness / fitness.sum()\n",
    "        indices = np.random.choice(np.arange(self.population_size), \n",
    "                                   size=self.population_size,\n",
    "                                   replace=True,\n",
    "                                   p=probabilities)\n",
    "        return self.population[indices]\n",
    "    \n",
    "    # 交叉操作：单点交叉\n",
    "    def crossover(self, parent1, parent2):\n",
    "        point = np.random.randint(self.N-1)\n",
    "        child1 = np.hstack((parent1[:, :point], parent2[:, point:]))\n",
    "        child2 = np.hstack((parent2[:, :point], parent1[:, point:]))\n",
    "        return child1, child2\n",
    "\n",
    "    # 变异操作\n",
    "    def mutate(individual):\n",
    "        for j in range(num_papers):\n",
    "            if np.random.rand() < mutation_rate:\n",
    "                experts = np.random.choice(num_experts, papers_per_expert, replace=False)\n",
    "                individual[:, j] = 0\n",
    "                individual[experts, j] = 1\n",
    "        return individual\n",
    "\n",
    "    \n",
    "\n"
   ]
  },
  {
   "cell_type": "code",
   "execution_count": 7,
   "metadata": {},
   "outputs": [
    {
     "name": "stdout",
     "output_type": "stream",
     "text": [
      "(3, 2)\n"
     ]
    },
    {
     "data": {
      "text/plain": [
       "np.int64(9)"
      ]
     },
     "execution_count": 7,
     "metadata": {},
     "output_type": "execute_result"
    }
   ],
   "source": [
    "array = np.array([[1, 2],\n",
    "                  [4, 6],\n",
    "                  [7, 9]])\n",
    "print(array.shape)\n",
    "\n",
    "array[2,1]\n"
   ]
  },
  {
   "cell_type": "code",
   "execution_count": 5,
   "metadata": {},
   "outputs": [],
   "source": [
    "# 选择操作：轮盘赌选择\n",
    "def select(population, fitness_scores):\n",
    "    probs = fitness_scores / np.sum(fitness_scores)\n",
    "    indices = np.random.choice(len(population), size=pop_size, p=probs)\n",
    "    return population[indices]"
   ]
  },
  {
   "cell_type": "code",
   "execution_count": 8,
   "metadata": {},
   "outputs": [],
   "source": [
    "def calculate_I_ij(S, i, j):\n",
    "    \"\"\"\n",
    "    计算专家对 (i, j) 的交集模。\n",
    "    \"\"\"\n",
    "    expert_i = S[i, :]\n",
    "    expert_j = S[j, :]\n",
    "\n",
    "    # 计算两者的交集模，即向量的内积\n",
    "    I_ij = np.dot(expert_i, expert_j)\n",
    "\n",
    "    return I_ij"
   ]
  },
  {
   "cell_type": "code",
   "execution_count": 16,
   "metadata": {},
   "outputs": [],
   "source": [
    "def evaluate(individual):\n",
    "    \"\"\"\n",
    "    评估函数\n",
    "    1.最大化所有作品的专家组的交集模\n",
    "    2.最小化交集模之间的偏差\n",
    "    \"\"\"\n",
    "\n",
    "    # 转换个体为矩阵 S\n",
    "    S = np.array(individual).reshape((M, N))  \n",
    "    print(S)\n",
    "\n",
    "    # 第一个目标\n",
    "    fit_1 = 0\n",
    "    for p in range(N):\n",
    "        experts_for_p = np.where(S[:,p] == 1)[0]\n",
    "        expert_matrix_p = S[experts_for_p, :]\n",
    "        num_experts = expert_matrix_p.shape[0]\n",
    "        for i in range(num_experts):\n",
    "            for j in range(i+1, num_experts):\n",
    "                I_ij = calculate_I_ij(expert_matrix_p, i, j)\n",
    "                fit_1 += I_ij\n",
    "\n",
    "    # 第二个目标\n",
    "    fit_2 = 0\n",
    "    for i in range(M):\n",
    "        for j in range(i+1, M):\n",
    "            fit_2 += (calculate_I_ij(S,i,j)-3.87)**2\n",
    "\n",
    "\n",
    "    return fit_1, fit_2"
   ]
  },
  {
   "cell_type": "code",
   "execution_count": 17,
   "metadata": {},
   "outputs": [
    {
     "name": "stdout",
     "output_type": "stream",
     "text": [
      "[[1 1 0 0 1]\n",
      " [0 1 0 0 0]\n",
      " [1 1 1 1 1]]\n"
     ]
    }
   ],
   "source": [
    "M, N = 3, 5\n",
    "individual = [1,1,0,0,1,0,1,0,0,0,1,1,1,1,1]\n",
    "fit_1, fit2 = evaluate(individual)"
   ]
  }
 ],
 "metadata": {
  "kernelspec": {
   "display_name": "MATH_COMP",
   "language": "python",
   "name": "python3"
  },
  "language_info": {
   "codemirror_mode": {
    "name": "ipython",
    "version": 3
   },
   "file_extension": ".py",
   "mimetype": "text/x-python",
   "name": "python",
   "nbconvert_exporter": "python",
   "pygments_lexer": "ipython3",
   "version": "3.12.4"
  }
 },
 "nbformat": 4,
 "nbformat_minor": 2
}
